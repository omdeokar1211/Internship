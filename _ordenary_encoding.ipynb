{
 "cells": [
  {
   "cell_type": "code",
   "execution_count": 1,
   "id": "f4e215a9-7adc-4c12-ad66-c9c91d250ec8",
   "metadata": {},
   "outputs": [],
   "source": [
    "import pandas as pd "
   ]
  },
  {
   "cell_type": "code",
   "execution_count": 11,
   "id": "2e3701c2-b38f-4324-a4a3-c119a05f25a2",
   "metadata": {},
   "outputs": [],
   "source": [
    "# Sample Data\n",
    "data= {\n",
    "    'CoustemerID':['C001','C002','C003','C004','C005','COO6','C007','C008'],\n",
    "    'Education_order':['Higher School','Bachelors','Masters','phd','batch1','mast1'],\n",
    "    'Product_quality_order':['low','medium','high','medium','low','high','medium'],\n",
    "    'Satisfaction_order':['poor','average','Excellent','poor','excellent']}"
   ]
  },
  {
   "cell_type": "code",
   "execution_count": 13,
   "id": "892f7d1e-8a8e-4728-aa8c-7579149d95d5",
   "metadata": {},
   "outputs": [
    {
     "data": {
      "text/plain": [
       "{'CoustemerID': ['C001',\n",
       "  'C002',\n",
       "  'C003',\n",
       "  'C004',\n",
       "  'C005',\n",
       "  'COO6',\n",
       "  'C007',\n",
       "  'C008'],\n",
       " 'Education_order': ['Higher School',\n",
       "  'Bachelors',\n",
       "  'Masters',\n",
       "  'phd',\n",
       "  'batch1',\n",
       "  'mast1'],\n",
       " 'Product_quality_order': ['low',\n",
       "  'medium',\n",
       "  'high',\n",
       "  'medium',\n",
       "  'low',\n",
       "  'high',\n",
       "  'medium'],\n",
       " 'Satisfaction_order': ['poor', 'average', 'Excellent', 'poor', 'excellent']}"
      ]
     },
     "execution_count": 13,
     "metadata": {},
     "output_type": "execute_result"
    }
   ],
   "source": [
    "data"
   ]
  },
  {
   "cell_type": "code",
   "execution_count": 18,
   "id": "2e8e5a76-6cc2-4068-8813-3df82ca6f3bc",
   "metadata": {},
   "outputs": [],
   "source": [
    "#define the order for each ordinal feature\n",
    "Education_order=['Higher School','Bachelors','Masters','phd']\n",
    "Product_quality_order:['low','medium','high','low']\n",
    "Satisfaction_order=['poor','average','good','Excellent']\n"
   ]
  },
  {
   "cell_type": "code",
   "execution_count": 8,
   "id": "fec68ca2-1035-488f-80ed-c6ddeb9cfee5",
   "metadata": {},
   "outputs": [],
   "source": [
    "from sklearn.preprocessing import OrdinalEncoder"
   ]
  },
  {
   "cell_type": "code",
   "execution_count": null,
   "id": "f0f5bafc-d82a-4923-a366-d7b41e34dd74",
   "metadata": {},
   "outputs": [],
   "source": [
    "encoder=OrdinalEncoder(catogories=[Education_order,Product_quality_order,Satisfaction_order])"
   ]
  },
  {
   "cell_type": "code",
   "execution_count": 20,
   "id": "4fdf6880-011e-4e85-aba7-078cd0a8fee7",
   "metadata": {},
   "outputs": [
    {
     "ename": "NameError",
     "evalue": "name 'encoder' is not defined",
     "output_type": "error",
     "traceback": [
      "\u001b[1;31m---------------------------------------------------------------------------\u001b[0m",
      "\u001b[1;31mNameError\u001b[0m                                 Traceback (most recent call last)",
      "Cell \u001b[1;32mIn[20], line 2\u001b[0m\n\u001b[0;32m      1\u001b[0m \u001b[38;5;66;03m#apply encoding (skip customerID as it is identifier)\u001b[39;00m\n\u001b[1;32m----> 2\u001b[0m df[[\u001b[38;5;124m'\u001b[39m\u001b[38;5;124mEducation_level\u001b[39m\u001b[38;5;124m'\u001b[39m,\u001b[38;5;124m'\u001b[39m\u001b[38;5;124mProduct_Quality\u001b[39m\u001b[38;5;124m'\u001b[39m,\u001b[38;5;124m'\u001b[39m\u001b[38;5;124msatisfaction_level\u001b[39m\u001b[38;5;124m'\u001b[39m]]\u001b[38;5;241m=\u001b[39mencoder\u001b[38;5;241m.\u001b[39mfit_transform()\n\u001b[0;32m      3\u001b[0m df[[\u001b[38;5;124m'\u001b[39m\u001b[38;5;124mEducation_level\u001b[39m\u001b[38;5;124m'\u001b[39m,\u001b[38;5;124m'\u001b[39m\u001b[38;5;124mProduct_Quality\u001b[39m\u001b[38;5;124m'\u001b[39m,\u001b[38;5;124m'\u001b[39m\u001b[38;5;124msatisfaction_level\u001b[39m\u001b[38;5;124m'\u001b[39m]]\n",
      "\u001b[1;31mNameError\u001b[0m: name 'encoder' is not defined"
     ]
    }
   ],
   "source": [
    "#apply encoding (skip customerID as it is identifier)\n",
    "df[['Education_level','Product_Quality','satisfaction_level']]=encoder.fit_transform()\n",
    "df[['Education_level','Product_Quality','satisfaction_level']]"
   ]
  },
  {
   "cell_type": "code",
   "execution_count": null,
   "id": "01d67e2c-6d23-408a-840e-5971bf4d082c",
   "metadata": {},
   "outputs": [],
   "source": []
  }
 ],
 "metadata": {
  "kernelspec": {
   "display_name": "Python 3 (ipykernel)",
   "language": "python",
   "name": "python3"
  },
  "language_info": {
   "codemirror_mode": {
    "name": "ipython",
    "version": 3
   },
   "file_extension": ".py",
   "mimetype": "text/x-python",
   "name": "python",
   "nbconvert_exporter": "python",
   "pygments_lexer": "ipython3",
   "version": "3.12.7"
  }
 },
 "nbformat": 4,
 "nbformat_minor": 5
}
