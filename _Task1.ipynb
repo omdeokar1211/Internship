{
 "cells": [
  {
   "cell_type": "code",
   "execution_count": 3,
   "id": "8ed42524-0e4d-4a61-8c90-48c409d738c3",
   "metadata": {},
   "outputs": [],
   "source": [
    "import pandas as pd\n",
    "import numpy as np\n",
    "import matplotlib.pyplot as plt\n",
    "import seaborn as sns\n"
   ]
  },
  {
   "cell_type": "code",
   "execution_count": 4,
   "id": "5efcaac2-347c-4154-be83-505546f4d565",
   "metadata": {},
   "outputs": [
    {
     "data": {
      "text/html": [
       "<div>\n",
       "<style scoped>\n",
       "    .dataframe tbody tr th:only-of-type {\n",
       "        vertical-align: middle;\n",
       "    }\n",
       "\n",
       "    .dataframe tbody tr th {\n",
       "        vertical-align: top;\n",
       "    }\n",
       "\n",
       "    .dataframe thead th {\n",
       "        text-align: right;\n",
       "    }\n",
       "</style>\n",
       "<table border=\"1\" class=\"dataframe\">\n",
       "  <thead>\n",
       "    <tr style=\"text-align: right;\">\n",
       "      <th></th>\n",
       "      <th>Name</th>\n",
       "      <th>Age</th>\n",
       "      <th>Gender</th>\n",
       "      <th>Email</th>\n",
       "      <th>Join_Date</th>\n",
       "      <th>Salary</th>\n",
       "      <th>Department</th>\n",
       "    </tr>\n",
       "  </thead>\n",
       "  <tbody>\n",
       "    <tr>\n",
       "      <th>0</th>\n",
       "      <td>Alice</td>\n",
       "      <td>NaN</td>\n",
       "      <td>NaN</td>\n",
       "      <td>user0@example.com</td>\n",
       "      <td>2021-05-21</td>\n",
       "      <td>NaN</td>\n",
       "      <td>Admin</td>\n",
       "    </tr>\n",
       "    <tr>\n",
       "      <th>1</th>\n",
       "      <td>Bob</td>\n",
       "      <td>40</td>\n",
       "      <td>M</td>\n",
       "      <td>user1@example.com</td>\n",
       "      <td>NaN</td>\n",
       "      <td>50000</td>\n",
       "      <td>Engineering</td>\n",
       "    </tr>\n",
       "    <tr>\n",
       "      <th>2</th>\n",
       "      <td>Charlie</td>\n",
       "      <td>unknown</td>\n",
       "      <td>Male</td>\n",
       "      <td>user2@example.com</td>\n",
       "      <td>2020/01/01</td>\n",
       "      <td>50000</td>\n",
       "      <td>HR</td>\n",
       "    </tr>\n",
       "    <tr>\n",
       "      <th>3</th>\n",
       "      <td>David</td>\n",
       "      <td>NaN</td>\n",
       "      <td>NaN</td>\n",
       "      <td>user3@example.com</td>\n",
       "      <td>2021-05-21</td>\n",
       "      <td>70000</td>\n",
       "      <td>Admin</td>\n",
       "    </tr>\n",
       "    <tr>\n",
       "      <th>4</th>\n",
       "      <td>Eva</td>\n",
       "      <td>35</td>\n",
       "      <td>Other</td>\n",
       "      <td>user4@example.com</td>\n",
       "      <td>July 4, 2020</td>\n",
       "      <td>70000</td>\n",
       "      <td>Engineering</td>\n",
       "    </tr>\n",
       "    <tr>\n",
       "      <th>5</th>\n",
       "      <td>Frank</td>\n",
       "      <td>unknown</td>\n",
       "      <td>Other</td>\n",
       "      <td>user5@example.com</td>\n",
       "      <td>NaN</td>\n",
       "      <td>70000</td>\n",
       "      <td>Admin</td>\n",
       "    </tr>\n",
       "    <tr>\n",
       "      <th>6</th>\n",
       "      <td>Grace</td>\n",
       "      <td>unknown</td>\n",
       "      <td>Female</td>\n",
       "      <td>user6@example.com</td>\n",
       "      <td>July 4, 2020</td>\n",
       "      <td>80000</td>\n",
       "      <td>Engineering</td>\n",
       "    </tr>\n",
       "    <tr>\n",
       "      <th>7</th>\n",
       "      <td>Hannah</td>\n",
       "      <td>NaN</td>\n",
       "      <td>Other</td>\n",
       "      <td>user7@example.com</td>\n",
       "      <td>2021-05-21</td>\n",
       "      <td>NaN</td>\n",
       "      <td>HR</td>\n",
       "    </tr>\n",
       "    <tr>\n",
       "      <th>8</th>\n",
       "      <td>Ivy</td>\n",
       "      <td>30</td>\n",
       "      <td>Female</td>\n",
       "      <td>user8@example.com</td>\n",
       "      <td>NaN</td>\n",
       "      <td>50000</td>\n",
       "      <td>Engineering</td>\n",
       "    </tr>\n",
       "    <tr>\n",
       "      <th>9</th>\n",
       "      <td>Jack</td>\n",
       "      <td>35</td>\n",
       "      <td>Male</td>\n",
       "      <td>user9@example.com</td>\n",
       "      <td>2020/01/01</td>\n",
       "      <td>80000</td>\n",
       "      <td>Engineering</td>\n",
       "    </tr>\n",
       "  </tbody>\n",
       "</table>\n",
       "</div>"
      ],
      "text/plain": [
       "      Name      Age  Gender              Email     Join_Date Salary  \\\n",
       "0    Alice      NaN     NaN  user0@example.com    2021-05-21    NaN   \n",
       "1      Bob       40       M  user1@example.com           NaN  50000   \n",
       "2  Charlie  unknown    Male  user2@example.com    2020/01/01  50000   \n",
       "3    David      NaN     NaN  user3@example.com    2021-05-21  70000   \n",
       "4      Eva       35   Other  user4@example.com  July 4, 2020  70000   \n",
       "5    Frank  unknown   Other  user5@example.com           NaN  70000   \n",
       "6    Grace  unknown  Female  user6@example.com  July 4, 2020  80000   \n",
       "7   Hannah      NaN   Other  user7@example.com    2021-05-21    NaN   \n",
       "8      Ivy       30  Female  user8@example.com           NaN  50000   \n",
       "9     Jack       35    Male  user9@example.com    2020/01/01  80000   \n",
       "\n",
       "    Department  \n",
       "0        Admin  \n",
       "1  Engineering  \n",
       "2           HR  \n",
       "3        Admin  \n",
       "4  Engineering  \n",
       "5        Admin  \n",
       "6  Engineering  \n",
       "7           HR  \n",
       "8  Engineering  \n",
       "9  Engineering  "
      ]
     },
     "execution_count": 4,
     "metadata": {},
     "output_type": "execute_result"
    }
   ],
   "source": [
    "ds= pd.read_csv(\"raw_messy_dataset.csv\")\n",
    "ds.head(10)"
   ]
  },
  {
   "cell_type": "code",
   "execution_count": 5,
   "id": "81508abc-12c6-478d-b3cf-a7a40fa67a09",
   "metadata": {},
   "outputs": [
    {
     "name": "stdout",
     "output_type": "stream",
     "text": [
      "<class 'pandas.core.frame.DataFrame'>\n",
      "RangeIndex: 105 entries, 0 to 104\n",
      "Data columns (total 7 columns):\n",
      " #   Column      Non-Null Count  Dtype \n",
      "---  ------      --------------  ----- \n",
      " 0   Name        105 non-null    object\n",
      " 1   Age         72 non-null     object\n",
      " 2   Gender      89 non-null     object\n",
      " 3   Email       95 non-null     object\n",
      " 4   Join_Date   70 non-null     object\n",
      " 5   Salary      78 non-null     object\n",
      " 6   Department  89 non-null     object\n",
      "dtypes: object(7)\n",
      "memory usage: 5.9+ KB\n"
     ]
    }
   ],
   "source": [
    "ds.info()"
   ]
  },
  {
   "cell_type": "code",
   "execution_count": 6,
   "id": "cf6fb692-6f5f-4f79-a4c4-8c5972a89a6d",
   "metadata": {},
   "outputs": [
    {
     "data": {
      "text/plain": [
       "5"
      ]
     },
     "execution_count": 6,
     "metadata": {},
     "output_type": "execute_result"
    }
   ],
   "source": [
    "ds.duplicated().sum()"
   ]
  },
  {
   "cell_type": "code",
   "execution_count": 7,
   "id": "07481b2c-f1b2-4219-bceb-476e5540429b",
   "metadata": {},
   "outputs": [
    {
     "data": {
      "text/html": [
       "<div>\n",
       "<style scoped>\n",
       "    .dataframe tbody tr th:only-of-type {\n",
       "        vertical-align: middle;\n",
       "    }\n",
       "\n",
       "    .dataframe tbody tr th {\n",
       "        vertical-align: top;\n",
       "    }\n",
       "\n",
       "    .dataframe thead th {\n",
       "        text-align: right;\n",
       "    }\n",
       "</style>\n",
       "<table border=\"1\" class=\"dataframe\">\n",
       "  <thead>\n",
       "    <tr style=\"text-align: right;\">\n",
       "      <th></th>\n",
       "      <th>Name</th>\n",
       "      <th>Age</th>\n",
       "      <th>Gender</th>\n",
       "      <th>Email</th>\n",
       "      <th>Join_Date</th>\n",
       "      <th>Salary</th>\n",
       "      <th>Department</th>\n",
       "    </tr>\n",
       "  </thead>\n",
       "  <tbody>\n",
       "    <tr>\n",
       "      <th>count</th>\n",
       "      <td>105</td>\n",
       "      <td>72</td>\n",
       "      <td>89</td>\n",
       "      <td>95</td>\n",
       "      <td>70</td>\n",
       "      <td>78</td>\n",
       "      <td>89</td>\n",
       "    </tr>\n",
       "    <tr>\n",
       "      <th>unique</th>\n",
       "      <td>10</td>\n",
       "      <td>5</td>\n",
       "      <td>5</td>\n",
       "      <td>90</td>\n",
       "      <td>4</td>\n",
       "      <td>5</td>\n",
       "      <td>5</td>\n",
       "    </tr>\n",
       "    <tr>\n",
       "      <th>top</th>\n",
       "      <td>Alice</td>\n",
       "      <td>40</td>\n",
       "      <td>Male</td>\n",
       "      <td>user0@example.com</td>\n",
       "      <td>2021-05-21</td>\n",
       "      <td>50000</td>\n",
       "      <td>Engineering</td>\n",
       "    </tr>\n",
       "    <tr>\n",
       "      <th>freq</th>\n",
       "      <td>11</td>\n",
       "      <td>22</td>\n",
       "      <td>22</td>\n",
       "      <td>2</td>\n",
       "      <td>26</td>\n",
       "      <td>22</td>\n",
       "      <td>26</td>\n",
       "    </tr>\n",
       "  </tbody>\n",
       "</table>\n",
       "</div>"
      ],
      "text/plain": [
       "         Name Age Gender              Email   Join_Date Salary   Department\n",
       "count     105  72     89                 95          70     78           89\n",
       "unique     10   5      5                 90           4      5            5\n",
       "top     Alice  40   Male  user0@example.com  2021-05-21  50000  Engineering\n",
       "freq       11  22     22                  2          26     22           26"
      ]
     },
     "execution_count": 7,
     "metadata": {},
     "output_type": "execute_result"
    }
   ],
   "source": [
    "ds.describe()"
   ]
  },
  {
   "cell_type": "code",
   "execution_count": 8,
   "id": "cf4f6de3-91fd-4ff5-9361-e7e8498922a5",
   "metadata": {},
   "outputs": [],
   "source": [
    "ds.drop_duplicates(inplace = True)"
   ]
  },
  {
   "cell_type": "code",
   "execution_count": 9,
   "id": "e5348b44-030c-46ff-a704-05689461831a",
   "metadata": {},
   "outputs": [
    {
     "data": {
      "text/plain": [
       "Index(['Name', 'Age', 'Gender', 'Email', 'Join_Date', 'Salary', 'Department'], dtype='object')"
      ]
     },
     "execution_count": 9,
     "metadata": {},
     "output_type": "execute_result"
    }
   ],
   "source": [
    "ds.columns"
   ]
  },
  {
   "cell_type": "code",
   "execution_count": 10,
   "id": "7050d05e-d183-444f-8ecc-864724360d51",
   "metadata": {},
   "outputs": [
    {
     "name": "stderr",
     "output_type": "stream",
     "text": [
      "C:\\Users\\omdeo\\AppData\\Local\\Temp\\ipykernel_31840\\2936381552.py:1: FutureWarning: A value is trying to be set on a copy of a DataFrame or Series through chained assignment using an inplace method.\n",
      "The behavior will change in pandas 3.0. This inplace method will never work because the intermediate object on which we are setting values always behaves as a copy.\n",
      "\n",
      "For example, when doing 'df[col].method(value, inplace=True)', try using 'df.method({col: value}, inplace=True)' or df[col] = df[col].method(value) instead, to perform the operation inplace on the original object.\n",
      "\n",
      "\n",
      "  ds[\"Email\"].fillna(\"_\", inplace=True)\n"
     ]
    }
   ],
   "source": [
    "ds[\"Email\"].fillna(\"_\", inplace=True)"
   ]
  },
  {
   "cell_type": "code",
   "execution_count": 11,
   "id": "e5a11e6c-6f39-49cd-a35a-4427b9dc5af6",
   "metadata": {},
   "outputs": [],
   "source": [
    "ds[\"Join_Date\"] = pd.to_datetime(ds[\"Join_Date\"],errors = 'coerce')"
   ]
  },
  {
   "cell_type": "code",
   "execution_count": 12,
   "id": "4ec94b29-9cdf-495f-be15-ea36b5e182f6",
   "metadata": {},
   "outputs": [],
   "source": [
    "ds[\"Salary\"] = pd.to_numeric(ds[\"Salary\"],errors = 'coerce')"
   ]
  },
  {
   "cell_type": "code",
   "execution_count": 13,
   "id": "2cf27291-2097-497b-bd2c-71751264651c",
   "metadata": {},
   "outputs": [
    {
     "name": "stdout",
     "output_type": "stream",
     "text": [
      "<class 'pandas.core.frame.DataFrame'>\n",
      "Index: 100 entries, 0 to 99\n",
      "Data columns (total 7 columns):\n",
      " #   Column      Non-Null Count  Dtype         \n",
      "---  ------      --------------  -----         \n",
      " 0   Name        100 non-null    object        \n",
      " 1   Age         69 non-null     object        \n",
      " 2   Gender      86 non-null     object        \n",
      " 3   Email       100 non-null    object        \n",
      " 4   Join_Date   24 non-null     datetime64[ns]\n",
      " 5   Salary      60 non-null     float64       \n",
      " 6   Department  84 non-null     object        \n",
      "dtypes: datetime64[ns](1), float64(1), object(5)\n",
      "memory usage: 6.2+ KB\n"
     ]
    }
   ],
   "source": [
    "ds.info()"
   ]
  },
  {
   "cell_type": "code",
   "execution_count": 14,
   "id": "cf56d125-07db-4eca-8a9c-d5e64594f70b",
   "metadata": {},
   "outputs": [
    {
     "name": "stderr",
     "output_type": "stream",
     "text": [
      "C:\\Users\\omdeo\\AppData\\Local\\Temp\\ipykernel_31840\\2414529606.py:2: FutureWarning: A value is trying to be set on a copy of a DataFrame or Series through chained assignment using an inplace method.\n",
      "The behavior will change in pandas 3.0. This inplace method will never work because the intermediate object on which we are setting values always behaves as a copy.\n",
      "\n",
      "For example, when doing 'df[col].method(value, inplace=True)', try using 'df.method({col: value}, inplace=True)' or df[col] = df[col].method(value) instead, to perform the operation inplace on the original object.\n",
      "\n",
      "\n",
      "  ds[\"Department\"].fillna(y,inplace = True)\n"
     ]
    },
    {
     "data": {
      "text/plain": [
       "array(['Admin', 'Engineering', 'HR', 'Sales', 'Marketing'], dtype=object)"
      ]
     },
     "execution_count": 14,
     "metadata": {},
     "output_type": "execute_result"
    }
   ],
   "source": [
    "y = ds[\"Department\"].mode()[0]\n",
    "ds[\"Department\"].fillna(y,inplace = True)\n",
    "ds[\"Department\"].unique()"
   ]
  },
  {
   "cell_type": "code",
   "execution_count": 15,
   "id": "de85c24f-48d4-4d76-9518-7cf0786f43b3",
   "metadata": {},
   "outputs": [],
   "source": [
    "ds.to_csv(\"cleaned.csv\")"
   ]
  },
  {
   "cell_type": "code",
   "execution_count": 16,
   "id": "4c3f7045-0971-41f9-b406-4b4991fa1c9e",
   "metadata": {},
   "outputs": [
    {
     "name": "stdout",
     "output_type": "stream",
     "text": [
      "       Name      Age  Gender               Email  Join_Date   Salary   Department\n",
      "0     Alice      NaN     NaN   user0@example.com 2021-05-21      NaN        Admin\n",
      "1       Bob       40       M   user1@example.com        NaT  50000.0  Engineering\n",
      "2   Charlie  unknown    Male   user2@example.com        NaT  50000.0           HR\n",
      "3     David      NaN     NaN   user3@example.com 2021-05-21  70000.0        Admin\n",
      "4       Eva       35   Other   user4@example.com        NaT  70000.0  Engineering\n",
      "5     Frank  unknown   Other   user5@example.com        NaT  70000.0        Admin\n",
      "6     Grace  unknown  Female   user6@example.com        NaT  80000.0  Engineering\n",
      "7    Hannah      NaN   Other   user7@example.com 2021-05-21      NaN           HR\n",
      "8       Ivy       30  Female   user8@example.com        NaT  50000.0  Engineering\n",
      "9      Jack       35    Male   user9@example.com        NaT  80000.0  Engineering\n",
      "10    Alice      NaN       M  user10@example.com 2021-05-21  70000.0  Engineering\n",
      "11      Bob       35       M  user11@example.com        NaT  50000.0        Sales\n",
      "12  Charlie       35       M  user12@example.com        NaT  80000.0        Sales\n",
      "13    David  unknown   Other  user13@example.com        NaT      NaN        Sales\n",
      "14      Eva       40    Male  user14@example.com        NaT  80000.0           HR\n",
      "15    Frank       35   Other  user15@example.com        NaT      NaN        Admin\n",
      "16    Grace      NaN   Other  user16@example.com 2021-05-21  70000.0  Engineering\n",
      "17   Hannah  unknown    Male  user17@example.com        NaT      NaN  Engineering\n",
      "18      Ivy       30    Male  user18@example.com 2021-05-21  50000.0  Engineering\n",
      "19     Jack       40    Male  user19@example.com        NaT  70000.0           HR\n",
      "20    Alice      NaN    Male  user20@example.com 2021-05-21  50000.0  Engineering\n",
      "21      Bob      NaN       M  user21@example.com        NaT      NaN        Sales\n",
      "22  Charlie       30       F  user22@example.com        NaT  60000.0  Engineering\n",
      "23    David       40       F  user23@example.com        NaT      NaN    Marketing\n",
      "24      Eva  unknown    Male  user24@example.com        NaT  60000.0  Engineering\n",
      "25    Frank       25       F  user25@example.com        NaT  60000.0        Sales\n",
      "26    Grace       40       F  user26@example.com        NaT      NaN    Marketing\n",
      "27   Hannah       30    Male  user27@example.com 2021-05-21  70000.0  Engineering\n",
      "28      Ivy      NaN       F  user28@example.com        NaT      NaN    Marketing\n",
      "29     Jack  unknown   Other  user29@example.com 2021-05-21  50000.0        Sales\n",
      "30    Alice       40  Female  user30@example.com 2021-05-21  80000.0        Admin\n",
      "31      Bob       25  Female  user31@example.com        NaT  50000.0        Admin\n",
      "32  Charlie       25    Male  user32@example.com 2021-05-21  80000.0    Marketing\n",
      "33    David       35       M  user33@example.com        NaT  50000.0           HR\n",
      "34      Eva       35    Male  user34@example.com        NaT      NaN    Marketing\n",
      "35    Frank      NaN       M  user35@example.com        NaT      NaN  Engineering\n",
      "36    Grace       30  Female  user36@example.com        NaT  80000.0  Engineering\n",
      "37   Hannah       40    Male  user37@example.com        NaT      NaN        Admin\n",
      "38      Ivy       40     NaN  user38@example.com 2021-05-21  70000.0           HR\n",
      "39     Jack      NaN   Other  user39@example.com 2021-05-21  50000.0        Sales\n",
      "40    Alice      NaN       F  user40@example.com        NaT  50000.0  Engineering\n",
      "41      Bob      NaN       M  user41@example.com        NaT  80000.0        Admin\n",
      "42  Charlie      NaN     NaN  user42@example.com        NaT  70000.0  Engineering\n",
      "43    David      NaN       F  user43@example.com        NaT  70000.0        Admin\n",
      "44      Eva       35       F  user44@example.com        NaT      NaN  Engineering\n",
      "45    Frank       40    Male  user45@example.com        NaT      NaN  Engineering\n",
      "46    Grace      NaN       F  user46@example.com        NaT      NaN        Admin\n",
      "47   Hannah       40   Other  user47@example.com        NaT      NaN        Sales\n",
      "48      Ivy       25     NaN  user48@example.com        NaT      NaN    Marketing\n",
      "49     Jack       35       F  user49@example.com        NaT      NaN  Engineering\n",
      "50    Alice  unknown    Male  user50@example.com 2021-05-21      NaN        Admin\n",
      "51      Bob       35   Other  user51@example.com        NaT      NaN        Admin\n",
      "52  Charlie      NaN  Female  user52@example.com        NaT  70000.0           HR\n",
      "53    David  unknown     NaN  user53@example.com        NaT      NaN    Marketing\n",
      "54      Eva       25       F  user54@example.com        NaT  70000.0  Engineering\n",
      "55    Frank      NaN    Male  user55@example.com        NaT  70000.0        Sales\n",
      "56    Grace       30  Female  user56@example.com        NaT  60000.0  Engineering\n",
      "57   Hannah       40  Female  user57@example.com        NaT      NaN    Marketing\n",
      "58      Ivy       25       M  user58@example.com 2021-05-21      NaN    Marketing\n",
      "59     Jack       40   Other  user59@example.com 2021-05-21  50000.0    Marketing\n",
      "60    Alice      NaN       F  user60@example.com        NaT  80000.0  Engineering\n",
      "61      Bob       30    Male  user61@example.com        NaT      NaN    Marketing\n",
      "62  Charlie       30       M  user62@example.com        NaT  50000.0        Admin\n",
      "63    David       25   Other  user63@example.com        NaT      NaN  Engineering\n",
      "64      Eva       30       M  user64@example.com        NaT  80000.0    Marketing\n",
      "65    Frank  unknown     NaN  user65@example.com        NaT      NaN        Admin\n",
      "66    Grace       30   Other  user66@example.com        NaT  70000.0           HR\n",
      "67   Hannah       40   Other  user67@example.com        NaT  80000.0    Marketing\n",
      "68      Ivy       40       F  user68@example.com        NaT  70000.0  Engineering\n",
      "69     Jack      NaN   Other  user69@example.com        NaT  50000.0  Engineering\n",
      "70    Alice       40       M  user70@example.com        NaT  50000.0    Marketing\n",
      "71      Bob      NaN   Other  user71@example.com        NaT  80000.0  Engineering\n",
      "72  Charlie       40       F  user72@example.com        NaT  80000.0        Admin\n",
      "73    David  unknown       F  user73@example.com        NaT      NaN           HR\n",
      "74      Eva      NaN     NaN  user74@example.com        NaT      NaN        Sales\n",
      "75    Frank       35       M  user75@example.com 2021-05-21      NaN           HR\n",
      "76    Grace      NaN  Female  user76@example.com 2021-05-21      NaN    Marketing\n",
      "77   Hannah       25  Female  user77@example.com        NaT      NaN  Engineering\n",
      "78      Ivy       40   Other  user78@example.com 2021-05-21  70000.0  Engineering\n",
      "79     Jack       30     NaN  user79@example.com        NaT  80000.0  Engineering\n",
      "80    Alice       40    Male  user80@example.com        NaT  50000.0  Engineering\n",
      "81      Bob       30   Other  user81@example.com 2021-05-21      NaN  Engineering\n",
      "82  Charlie      NaN     NaN  user82@example.com 2021-05-21      NaN        Admin\n",
      "83    David      NaN       M  user83@example.com        NaT  50000.0        Sales\n",
      "84      Eva      NaN       M  user84@example.com        NaT      NaN    Marketing\n",
      "85    Frank       30       M  user85@example.com        NaT      NaN  Engineering\n",
      "86    Grace       40       M  user86@example.com        NaT      NaN        Sales\n",
      "87   Hannah      NaN       M  user87@example.com        NaT  70000.0  Engineering\n",
      "88      Ivy  unknown     NaN  user88@example.com        NaT  80000.0  Engineering\n",
      "89     Jack      NaN     NaN  user89@example.com 2021-05-21  50000.0        Sales\n",
      "90    Alice       30       F                   _        NaT  80000.0  Engineering\n",
      "91      Bob       30  Female                   _        NaT      NaN        Admin\n",
      "92  Charlie       40       M                   _ 2021-05-21      NaN        Admin\n",
      "93    David       30    Male                   _        NaT      NaN        Sales\n",
      "94      Eva       30     NaN                   _ 2021-05-21      NaN  Engineering\n",
      "95    Frank      NaN    Male                   _        NaT  50000.0  Engineering\n",
      "96    Grace       40    Male                   _        NaT  70000.0        Sales\n",
      "97   Hannah      NaN    Male                   _        NaT  60000.0  Engineering\n",
      "98      Ivy      NaN       F                   _        NaT  50000.0  Engineering\n",
      "99     Jack      NaN     NaN                   _        NaT  60000.0        Admin\n"
     ]
    }
   ],
   "source": [
    "print(ds.to_string())"
   ]
  },
  {
   "cell_type": "code",
   "execution_count": null,
   "id": "8791e5a8-9b5f-4a6d-b99f-069d877547f9",
   "metadata": {},
   "outputs": [],
   "source": []
  }
 ],
 "metadata": {
  "kernelspec": {
   "display_name": "Python 3 (ipykernel)",
   "language": "python",
   "name": "python3"
  },
  "language_info": {
   "codemirror_mode": {
    "name": "ipython",
    "version": 3
   },
   "file_extension": ".py",
   "mimetype": "text/x-python",
   "name": "python",
   "nbconvert_exporter": "python",
   "pygments_lexer": "ipython3",
   "version": "3.12.7"
  }
 },
 "nbformat": 4,
 "nbformat_minor": 5
}
