{
 "cells": [
  {
   "cell_type": "code",
   "execution_count": 1,
   "id": "173438f7-4a80-477e-86ee-5de2f3dfb579",
   "metadata": {},
   "outputs": [],
   "source": [
    "import numpy as np"
   ]
  },
  {
   "cell_type": "code",
   "execution_count": 2,
   "id": "22e615dd-4b13-4cff-a67b-0cf53b9fcc31",
   "metadata": {},
   "outputs": [
    {
     "name": "stdout",
     "output_type": "stream",
     "text": [
      "[20, 30, 40, 40]\n"
     ]
    }
   ],
   "source": [
    "list = [20,30,40,40]\n",
    "print(list)"
   ]
  },
  {
   "cell_type": "code",
   "execution_count": 3,
   "id": "41493e8a-ea2f-4893-bc8e-3bd4eff15b79",
   "metadata": {},
   "outputs": [
    {
     "name": "stdout",
     "output_type": "stream",
     "text": [
      "[20 30 40 50]\n"
     ]
    }
   ],
   "source": [
    "arr = np.array([20, 30, 40, 50])\n",
    "print(arr)"
   ]
  },
  {
   "cell_type": "code",
   "execution_count": 4,
   "id": "32a1d2f2-adb0-4995-8313-4fbb72c8d27d",
   "metadata": {},
   "outputs": [
    {
     "name": "stdout",
     "output_type": "stream",
     "text": [
      "float64\n"
     ]
    }
   ],
   "source": [
    "# datatype\n",
    "\n",
    "arr = np.array([1,2,3.0,4.6,5.8,6,7,8])\n",
    "print(arr.dtype)"
   ]
  },
  {
   "cell_type": "code",
   "execution_count": 5,
   "id": "7bee0d5e-c677-4d9b-99f4-c1b92179d5a9",
   "metadata": {},
   "outputs": [
    {
     "name": "stdout",
     "output_type": "stream",
     "text": [
      "float64\n",
      "[1 2 3 4 5 6 7 8]\n"
     ]
    }
   ],
   "source": [
    "# Conversion of datatype\n",
    "\n",
    "arr = np.array([1,2,3.0,4.6,5.8,6,7,8])\n",
    "print(arr.dtype)\n",
    "print(arr.astype(int))"
   ]
  },
  {
   "cell_type": "code",
   "execution_count": 6,
   "id": "ce358045-4b3d-4cca-bf0b-683d318f6272",
   "metadata": {},
   "outputs": [
    {
     "name": "stdout",
     "output_type": "stream",
     "text": [
      "(2, 4)\n",
      "8\n"
     ]
    }
   ],
   "source": [
    "# Cheaking shape of an array ((a,b) where a shows rows and b represents elements in column)\n",
    "\n",
    "arr = np.array([[1, 2, 3, 4],\n",
    "                [5, 6, 7, 8]]) \n",
    "print(arr.shape) \n",
    "\n",
    "print(arr.size)"
   ]
  },
  {
   "cell_type": "code",
   "execution_count": 7,
   "id": "aa04bfb2-8450-4b15-96d4-516d3154c85d",
   "metadata": {},
   "outputs": [
    {
     "name": "stdout",
     "output_type": "stream",
     "text": [
      "[[ 1  2  3]\n",
      " [ 4  5  6]\n",
      " [ 7  8  9]\n",
      " [10 11 12]]\n"
     ]
    }
   ],
   "source": [
    "# Reshaping array\n",
    "\n",
    "arr = np.array([1, 2, 3, 4, 5, 6, 7, 8, 9, 10, 11, 12]) \n",
    "newarr = arr.reshape(4, 3) \n",
    "print(newarr) "
   ]
  },
  {
   "cell_type": "code",
   "execution_count": 8,
   "id": "d1006080-fc51-4324-8945-ac326d31fd56",
   "metadata": {},
   "outputs": [
    {
     "name": "stdout",
     "output_type": "stream",
     "text": [
      "1\n",
      "2\n",
      "3\n"
     ]
    }
   ],
   "source": [
    "# Iterating elements\n",
    "\n",
    "arr = np.array([1, 2, 3]) \n",
    "for x in arr: \n",
    "     print(x) "
   ]
  },
  {
   "cell_type": "code",
   "execution_count": 9,
   "id": "1938eea2-cd17-470a-a3e7-6a6c5e83697a",
   "metadata": {},
   "outputs": [
    {
     "name": "stdout",
     "output_type": "stream",
     "text": [
      "[1 2 3 4 5 6]\n"
     ]
    }
   ],
   "source": [
    "# Joining array\n",
    "\n",
    "arr1 = np.array([1,2,3])\n",
    "arr2 = np.array([4,5,6])\n",
    "newarr = np.concatenate((arr1,arr2))\n",
    "print(newarr)"
   ]
  },
  {
   "cell_type": "code",
   "execution_count": 10,
   "id": "fdc64af4-e0ee-4af5-8a7e-0324ae2a0b61",
   "metadata": {},
   "outputs": [
    {
     "name": "stdout",
     "output_type": "stream",
     "text": [
      "[array([1, 2]), array([3, 4]), array([5, 6])]\n"
     ]
    }
   ],
   "source": [
    "# Splitting array\n",
    "\n",
    "arr = np.array([1, 2, 3, 4, 5, 6]) \n",
    "newarr = np.array_split(arr, 3) \n",
    "print(newarr) "
   ]
  },
  {
   "cell_type": "code",
   "execution_count": 11,
   "id": "37be4528-478a-4cb7-bb5a-7fa287de1a07",
   "metadata": {},
   "outputs": [
    {
     "name": "stdout",
     "output_type": "stream",
     "text": [
      "(array([7], dtype=int64),)\n"
     ]
    }
   ],
   "source": [
    "# Searching array(It returns with index)\n",
    "\n",
    "arr = np.array([1,2,3,4,5,6,7,8])\n",
    "x=np.where(arr==8)\n",
    "print(x)"
   ]
  },
  {
   "cell_type": "code",
   "execution_count": null,
   "id": "b18cd894-3686-4dc5-85d1-3b9df505707d",
   "metadata": {},
   "outputs": [],
   "source": [
    "# Sorting array\n",
    "\n",
    "arr1 = np.array([3,6,2,7,9,2,0])         \n",
    "print(np.sort(arr1))\n",
    "\n",
    "arr2 = np.array([3,7,1,0,9,7])         \n",
    "print(np.sort(arr2)[::-1])"
   ]
  },
  {
   "cell_type": "code",
   "execution_count": 12,
   "id": "39ec7fee-5c37-4e10-809f-6feaecc0c0ec",
   "metadata": {},
   "outputs": [
    {
     "name": "stdout",
     "output_type": "stream",
     "text": [
      "[0 2 2 3 6 7 9]\n"
     ]
    }
   ],
   "source": [
    "arr1 = np.array([3,6,2,7,9,2,0])         \n",
    "print(np.sort(arr1))"
   ]
  },
  {
   "cell_type": "code",
   "execution_count": 13,
   "id": "24453804-5274-4e86-823c-0f5fb8fc28a6",
   "metadata": {},
   "outputs": [
    {
     "name": "stdout",
     "output_type": "stream",
     "text": [
      "[9 7 7 3 1 0]\n"
     ]
    }
   ],
   "source": [
    "arr2 = np.array([3,7,1,0,9,7])          \n",
    "print(np.sort(arr2)[::-1])"
   ]
  },
  {
   "cell_type": "code",
   "execution_count": 14,
   "id": "55ee17b5-89c1-4186-aaa5-40b5ca510439",
   "metadata": {},
   "outputs": [
    {
     "name": "stdout",
     "output_type": "stream",
     "text": [
      "[41 43]\n"
     ]
    }
   ],
   "source": [
    "arr = np.array([41, 42, 43, 44]) \n",
    "x = [True, False, True, False] \n",
    "newarr = arr[x] \n",
    "print(newarr) "
   ]
  },
  {
   "cell_type": "code",
   "execution_count": 15,
   "id": "be44512f-645b-4cdb-881f-1a271866a75f",
   "metadata": {},
   "outputs": [
    {
     "name": "stdout",
     "output_type": "stream",
     "text": [
      "[False, False, True, True]\n",
      "[43 44]\n"
     ]
    }
   ],
   "source": [
    "arr = np.array([41, 42, 43, 44])                                 \n",
    "                                           \n",
    "filter_arr = [] \n",
    " \n",
    "for element in arr: \n",
    " \n",
    "     if element > 42: \n",
    "          filter_arr.append(True) \n",
    "     else: \n",
    "          filter_arr.append(False)\n",
    "\n",
    "newarr = arr[filter_arr] \n",
    "\n",
    "print(filter_arr)\n",
    "\n",
    "print(newarr) "
   ]
  },
  {
   "cell_type": "code",
   "execution_count": 16,
   "id": "93c73089-5cdb-40e4-a7c8-9a25db868402",
   "metadata": {},
   "outputs": [
    {
     "name": "stdout",
     "output_type": "stream",
     "text": [
      "[20 30 40 50 60]\n",
      "[20 30 90 80 40]\n",
      "[20 40]\n"
     ]
    }
   ],
   "source": [
    "arr = np.array([20,30,40])\n",
    "print(np.append(arr,[50,60]))\n",
    "\n",
    "print(np.insert(arr,2,[90,80]))         \n",
    "\n",
    "print(np.delete(arr,[1]))"
   ]
  },
  {
   "cell_type": "code",
   "execution_count": 17,
   "id": "bf259339-4723-4a03-ad9b-6b89084fb8fa",
   "metadata": {},
   "outputs": [
    {
     "name": "stdout",
     "output_type": "stream",
     "text": [
      "140\n",
      "20\n",
      "50\n",
      "[ 20  50  90 140]\n"
     ]
    }
   ],
   "source": [
    "# Aggregating functions\n",
    "\n",
    "a = np.array([20,30,40,50])\n",
    "\n",
    "# sum of all elements\n",
    "print(np.sum(a))\n",
    "\n",
    "# Minimum\n",
    "print(np.min(a))\n",
    "\n",
    "# maximum\n",
    "print(np.max(a))\n",
    "\n",
    "# Cumulative sum\n",
    "print(np.cumsum(a))"
   ]
  },
  {
   "cell_type": "code",
   "execution_count": 18,
   "id": "c6251585-a3e5-4b7a-a29e-0368b8d1b912",
   "metadata": {},
   "outputs": [
    {
     "name": "stdout",
     "output_type": "stream",
     "text": [
      "37.0\n",
      "30.0\n",
      "20\n"
     ]
    }
   ],
   "source": [
    "# Statistical Functions\n",
    "\n",
    "import statistics as stats\n",
    "\n",
    "food_price = [20,30,40,50,60,70,20,30,20,30]\n",
    "a = np.array(food_price)\n",
    "\n",
    "# Mean \n",
    "print(np.mean(a))\n",
    "\n",
    "# Median \n",
    "print(np.median(a))\n",
    "\n",
    "# Mode\n",
    "print(stats.mode(a))"
   ]
  },
  {
   "cell_type": "code",
   "execution_count": null,
   "id": "6ad0ad0a-a36a-477a-87b9-2977ae42f5f7",
   "metadata": {},
   "outputs": [],
   "source": []
  }
 ],
 "metadata": {
  "kernelspec": {
   "display_name": "Python 3 (ipykernel)",
   "language": "python",
   "name": "python3"
  },
  "language_info": {
   "codemirror_mode": {
    "name": "ipython",
    "version": 3
   },
   "file_extension": ".py",
   "mimetype": "text/x-python",
   "name": "python",
   "nbconvert_exporter": "python",
   "pygments_lexer": "ipython3",
   "version": "3.12.7"
  }
 },
 "nbformat": 4,
 "nbformat_minor": 5
}
